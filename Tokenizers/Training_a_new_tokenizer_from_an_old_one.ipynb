{
  "cells": [
    {
      "cell_type": "markdown",
      "metadata": {
        "id": "dJfY_ft_IkLO"
      },
      "source": [
        "# Training a new tokenizer from an old one"
      ]
    },
    {
      "cell_type": "code",
      "execution_count": null,
      "metadata": {
        "id": "n8dyNeprIkLR"
      },
      "outputs": [],
      "source": [
        "!pip install datasets evaluate transformers[sentencepiece]\n",
        "!apt install git-lfs"
      ]
    },
    {
      "cell_type": "code",
      "execution_count": null,
      "metadata": {
        "id": "Sf8FfDVmIkLW"
      },
      "outputs": [],
      "source": [
        "from huggingface_hub import notebook_login\n",
        "\n",
        "notebook_login()"
      ]
    },
    {
      "cell_type": "code",
      "execution_count": null,
      "metadata": {
        "id": "DIEHuu4jIkLX"
      },
      "outputs": [],
      "source": [
        "from datasets import load_dataset\n",
        "raw_datasets = load_dataset(\"ccdv/pubmed-summarization\")"
      ]
    },
    {
      "cell_type": "code",
      "execution_count": 4,
      "metadata": {
        "id": "Ah1UUfgmIkLY",
        "outputId": "1440825d-4cc9-40c4-cfa5-92215b84c49f"
      },
      "outputs": [
        {
          "data": {
            "text/plain": [
              "Dataset({\n",
              "    features: ['article', 'abstract'],\n",
              "    num_rows: 119924\n",
              "})"
            ]
          },
          "execution_count": 4,
          "metadata": {},
          "output_type": "execute_result"
        }
      ],
      "source": [
        "raw_datasets[\"train\"]"
      ]
    },
    {
      "cell_type": "code",
      "execution_count": 5,
      "metadata": {
        "id": "6ysuRug0IkLZ"
      },
      "outputs": [
        {
          "name": "stdout",
          "output_type": "stream",
          "text": [
            "cerebral palsy is a nonprogressive central nervous system disorder that results in physical impairments and functional limitations that change as the children grow older . among a large number of instruments [ 24 ] , for measuring the physical ability of children with cp , the gross motor function classification system ( gmfcs ) introduced by palisano et al . in 1997   has been widely applied in clinical and research settings . \n",
            " the gmfcs is a five - level classification system that identifies abilities and functional limitations , based on the need of assistive devices of the cerebral palsy child , during self - initiated movements , such as walking and sitting . \n",
            " the system application is quick and easy and it gives a brief description of which level the child resembles based on his / her current gross motor function . \n",
            " the reliability and validity of the gmfcs in differentiating cerebral palsy children with different functional levels have been reported . \n",
            " similarly , the stability of the system over time proved to be very consistent , suggesting that the gmfcs could be used routinely in clinical practice to follow children with cerebral palsy . \n",
            " however , due to the heterogeneous nature of cerebral palsy , some overlap between levels i and ii has been observed and , indeed , anticipated by the authors [ 2 , 5 , 7 ] . \n",
            " gmfcs level i is associated with children with persistent neuromotor abnormalities not as severe as children from level ii . \n",
            " overlap between levels occurred more often when deciding if a child has limitations walking outdoors , going up stairs , jumping , or running . \n",
            " many studies aimed to determine which outcome tools could assist clinicians and researchers to improve the classification levels i and ii of the gmfcs [ 1 , 4 , 8 ] . \n",
            " correct classification at clinical settings has been corroborated by tests such as the gmfm-66 , gait velocity , and the weefim mobility [ 8 , 9 ] . \n",
            " child with cerebral palsy often develops changes in muscle length over time , more common at the hip and knee flexors and at the ankle dorsiflexors [ 10 , 11 ] . \n",
            " kilgour and colleagues ( 2005 ) using passive range of motion tests reported that diplegic children levels i and ii of the gmfcs had minimal loss of hip extension compared to a matched control group . since the gmfcs classification is based on functional activities , it would be more interesting to obtain measurements during dynamic activities . \n",
            " in addition , it is expected that muscle shortness is more advanced in diplegic children level ii than level i of the gmfcs \n",
            " . therefore , range of motion comparison between levels i and ii is also relevant . \n",
            " these muscles changes might affect the range and amplitude of the lower limb during dynamic activities such as gait . \n",
            " however , to date , none of the studies tried to discriminate gmfcs levels i and ii according to the angular displacement of the pelvis , hip , knee , and ankle / foot complex during gait . \n",
            " instrumented gait analysis is a complex procedure and a highly costly diagnostic tool ; however , the kinematic data obtained provides quantitative information on gait abnormalities that can not be detected during visual observation . \n",
            " raising the knowledge of the gait biomechanical differences between child with cerebral palsy level i and ii of the gmfcs can improve observational gait analysis skills and , at the same time , improve classification accuracy and more coherent physical therapy approaches based on the functional status of children with cerebral palsy . \n",
            " therefore , the research questions for this study were : ( 1 ) are there differences in the kinematics gait profiles of the pelvis and lower limb joints during gait between diplegic cerebral palsy children classified as gmfcs levels i and ii ? ( 2 ) if differences in the kinematics were found , which ones would be the most discriminatory between these groups ? \n",
            " a cross - sectional observational study was conducted with diplegic cerebral palsy children classified by a trained physical therapist , as gmfcs levels i and ii . \n",
            " the intra - rater reliability of the physical therapist in assessing the gmfcs levels was excellent ( icc = 0.941 ) . \n",
            " all children were community ambulates from outpatient clinics and , together with their parents or guardians , were invited to participate in the study . \n",
            " the temporal and spatial gait parameters and kinematics of the pelvis , hip , knee , and ankle / foot joints were collected on one day in a laboratory . \n",
            " the present study received approval from the ethics committee of the universidade federal de minas gerais , process number etic 088/04 . \n",
            " prior to participation , all procedures were explained to the child and his / her parent or guardian and an informed written consent was obtained . \n",
            " twenty - two ( 22 ) diplegic cerebral palsy children were included in the study , 15 male and 7 females between the ages of 7 and 12 , who could ambulate independently without assistive devices for a minimum of 6 meters without resting . \n",
            " patients were excluded if they had other neurological diseases , botulin injections , or history of orthopedic surgery in the past six months . \n",
            " characteristics of the participants , such as age ( years ) , height ( m ) , and body mass index ( bmi , kg / m ) , were obtained in order to describe the anthropometrics of the groups . \n",
            " three - dimensional kinematics of the right lower limb ( hip , knee , and ankle / foot joints ) and pelvis during the stance phase of the gait cycle were obtained with a six camera motion analysis system ( motion capture unit - qualisys medical ab 411 12 , gothenburg , sweden ) . \n",
            " the children walked barefoot over a 6-meter walkway , for an average of 9 ( sd = 3.1 ) trials at their natural speed . \n",
            " reflective markers and clusters of tracking markers were used to determine coordinate systems and motions of the pelvis , thigh , shank , and ankle / foot segments according to recommendations for minimizing soft tissue artifacts . a footswitch synchronized to the motion system \n",
            " was fixed under the children 's foot to determine contact to and loss of contact from the walking surface , and consequently , delimiting stance and swing phases during gait cycle . \n",
            " the resulting data were processed through the visual 3d motion analysis software ( c - motion , inc , rockville , maryland ) where the rigid segments corresponding to the pelvis , shank , thigh , and ankle / foot segments were first created . \n",
            " the position of the reflective anatomical markers were used for attributing coordinate systems for each segment and were located at left and right iliac crest , left and right greater trochanter , medial and lateral epicondyle of the femur , medial and lateral malleoli , 1st and 5th head of the metatarsus , and calcaneal tuberosity . \n",
            " one rigid cluster with 4 noncollinear markers was placed at the base of the sacrum and two nonrigid clusters with 3 noncollinear markers were placed at the medial side of the thigh and shank . \n",
            " data were smoothed using a zero - lag fourth - order butterworth low pass filter with a cut - off frequency of 6  hz . \n",
            " three - dimensional angular motion was calculated using the cardan sequence , defined as the orientation coordinate system of one segment in relation to the orientation of the coordinate system of the adjacent segment . \n",
            " the hip , knee , and ankle / foot joint angles were obtained using as reference the pelvis , thigh , and the shank segments , respectively . the sign convention used in defining the clinical rotation angles \n",
            " were as follows : ( 1 ) flexion of the hip and knee , anterior tilt of the pelvis , and ankle dorsiflexion , all of which occur about the lateral - medial or x - axis and were positive angles ; ( 2 ) adduction of the hip and knee , pelvic obliquity ( meaning the height of the iliac crest of the stance foot higher in relation to the height of the iliac crest of the opposite foot ) and internal rotation of the ankle / foot complex , all of which occur about the anterior - posterior or y - axis and were considered positive angles ; ( 3 ) internal rotation of the pelvis , hip and knee joints and adduction of the ankle / foot complex occurs about the distal - proximal or z - axis and all were positive angles . gait velocity ( m / s ) , stride length ( m ) , and cycle time ( s ) for the entire gait cycle , and swing and stance time ( s ) , were also obtained . \n",
            " baseline characteristics of participants are presented as values , means , and standard deviations ( sd ) . \n",
            " the mean difference between the groups with a 95% ci of the subject 's characteristics and temporal and spatial gait parameters were also obtained . a principal component analysis ( pca ) \n",
            " was applied to the stance phase of the gait waveforms to reduce the data and explore the profiles characterizing typical functions between levels i and ii of the gmfcs [ 15 , 16 ] . in pca , \n",
            " this technique determines a linear combination of the original variables that are used to summarize a new set of variables called principal components , which are uncorrelated and ordered so that the first component retains most of the variation present in the original data . \n",
            " therefore , each principal component represents a specific feature of the waveform data . the criteria to choose the number of principal components was 90% of the total sample variance . \n",
            " for each pc extracted , a score is calculated for each subject that aids in describing the meaning of the variation component according to the characteristics of each group . \n",
            " the higher the score , the more correlated the subject 's waveform is with a specific pc . \n",
            " to interpret the components , two waveforms were created based on the mean waveform  one standard deviation of the pc scores times the loading vector for each pc . \n",
            " the principal component scores were analyzed using student 's t - test with bonferroni correction for difference between groups . \n",
            " the pcs retained after the discriminant analysis were described according to the discriminant function coefficient to determine its relative importance in separating the groups . \n",
            " group gmfcs level i had 11 children with an average age of 9.1 years ( sd : 2.3 ) , average height of 1.3  m ( sd : 0.1 ) and bmi of 16.7  kg / m ( sd : 0.2 ) . \n",
            " group level ii , also with 11 children , had average age of 9.8 years ( sd : 2.1 ) , height of 1.3  m ( sd : 0.1 ) , and bmi of 17.2  kg / m ( sd : 3.8 , table 1 ) . table 2 describes the temporal and spatial parameters between groups with the 95% confidence interval showing no significant difference between groups . \n",
            " principal component analyses were carried out for three - dimensional angular displacement of the pelvis , hip , knee , and ankle / foot complex . \n",
            " the pc scores generated for each subject in each component were tested for differences between groups . \n",
            " the results showed that only the scores from the first component ( pc1 ) of the pelvis and hip joint in the frontal plane were statistically different between the groups ( table 3 , p < .05 ) . \n",
            " no difference was found in the curve profiles of the knee joint and ankle / foot complex . at the pelvis , \n",
            " figure 1(a ) shows the angular displacement of the pelvis during the stance phase ( normalized to 100% ) between level i and ii groups of the gmfcs . \n",
            " the coefficient of pc1 has all positive values ( figure 1(b ) ) ; therefore , it captures the magnitude of the pelvic obliquity angle in the frontal plane during the stance . \n",
            " figure 1(c ) shows the mean waveform and the high and low curves created based on the mean waveform  one standard deviation of the pc1 score times the loading vector for each pc1 . \n",
            " the results confirm that , on average , diplegic pc children level ii , during the stance phase of the gait , walked with reduced pelvic obliquity in comparison with children from group level i. the average range of pelvic obliquity during the stance phase of the gait cycle for group level i was 6.2 and for level ii was 3.3. \n",
            " figure 1(d ) shows the average angular displacement of the hip joint in the frontal plane between groups during the stance phase of the gait cycle . at the hip joint , two pcs were extracted with pc1 explaining 86.1% and pc2 8.5% , a total of 94.6% of variance explained . \n",
            " pc1 , with all positive values , measured the magnitude of the adduction angle of the hip ( figure 1(e ) ) . \n",
            " the mean waveform and the high and low waveforms are shown on figure 1(f ) and confirm that children in gmfcs level ii presented reduced hip adduction during the stance phase when compared to cerebral palsy children in level i. the average range of hip adduction / abduction during the stance phase of the gait cycle for group level i was 11.3 and for level ii was 8.9. a stepwise discriminant analysis was conducted with the pc1s of the pelvis and hip in the frontal plane . \n",
            " wilk 's lambda score was significant (  = .217 ,  ( 2 , n = 22 ) = 29.002 , p = .000 ) and showed that both pelvic obliquity and hip abduction angle are stronger discriminant variables , with 95.5% cross - validation . \n",
            " the magnitude of the coefficients of the pcs in the standardized canonical discriminant function showed that pelvic obliquity has higher impact on separating the groups ( 0.711 ) followed by hip abduction angle ( 0.654 ) during the stance phase of gait . \n",
            " to our knowledge , this is the first study that compared the angular displacement of the pelvis and lower limb joints , between diplegic cerebral palsy children classified according to the gmfcs as levels i and ii . \n",
            " the results demonstrated that children with diplegia level ii of the gmfcs significantly reduce the amplitude of pelvic obliquity and hip adduction angles during the stance phase of the gait cycle . \n",
            " gait velocity , stride length , stance / swing and cycle time were similar in outcome for both groups . \n",
            " children classified as gmfcs level i of ages between 7 and 12 years , are expected to walk independently inside and outside their homes , to go up and down stairs , and to run and jump . \n",
            " however , their gait velocity , balance , and motor coordination may be reduced compared to a paired child with normal development . \n",
            " difference between children of gmfcs levels i and ii included limitations in walking outdoors and in the community , on uneven surfaces , and in crowded places . \n",
            " children of level ii may hold onto a rail to climb stairs , may require wheeled mobility when traveling long distances , and their ability to perform gross motor skills such as running and jumping are minimal compared to children in level i . \n",
            " studies showing disagreement between levels i and ii have been reported , suggesting difficulty in classifying if a child has functional limitation or can perform gross motor skills [ 5 , 7 ] . during normal gait strike , the hemipelvis of the stance limb is aligned with the contralateral hemipelvis . at the beginning of loading response and mid - stance , the contralateral hemipelvis drops in the frontal plane , and the stance hemipelvis is higher around 4 to 7 . \n",
            " the effect of pelvic drop is to adjust the length of the support lower limb , helped by some degree of knee flexion , avoiding excessive lower vertical displacement of the center of mass . \n",
            " the hip abduction / adduction displacement at this moment is dependent on the pelvis movement over the femur . while hemipelvis elevation favors adduction of the stance limb , hemipelvis drop favors , on the contralateral side , hip abduction movement . \n",
            " besides saving body energy by preventing greater inferior displacement of the center of mass , hip adduction of the stance limb , also shifts the body center of mass towards the center of rotation of the hip being loaded . \n",
            " the result would be a decrease in the external adductor moment of force , favoring the mechanical advantage of the hip abductor muscles during stance . \n",
            " the summation of these actions prevents excessive pelvic drop and the trendelenburg gait . as well , when the support limb begins terminal stance and preswing phases , the opposite will occur . \n",
            " the pelvis will begin to drop , favoring hip abduction which is important to assist the release of the foot from the ground , permitting the body to swing forward [ 22 , 24 ] . \n",
            " therefore , pelvic obliquity and hip adduction are two mechanisms that work synchronously to maintain stability and forward movement of the body . in diplegic children with cerebral palsy , \n",
            " reduced pelvic obliquity could be a result of abductor muscles weakness bilaterally and adductor muscles spasticity . \n",
            " another explanation could be that , by reducing pelvic elevation on the supported limb in the stance phase of the cycle , children with cerebral palsy are probably trying to decrease leg length to facilitate the next initial contact of the same foot . \n",
            " however , this strategy would increase inferior displacement of the center of mass cycle , resulting in a less efficient gait [ 25 , 27 ] . at the hip joint , \n",
            " reduced hip adduction in the stance phase increases the internal abductor moment of the support limb . since children with cerebral palsy normally show weakness of the hip abductor muscles , the gait pattern would be unstable , forcing them to increase base of support or to spend less time in the unipodal phase [ 14 , 22 ] . \n",
            " the decreased hip adduction could also be a response to alterations in pelvic obliquity , once the loaded hemipelvis is lower than normal , challenging the hip mechanics to generate hip adduction . \n",
            " the combination of reduced pelvic obliquity and hip adduction during the stance phase of the gait cycle , reinforce the evidence that children with cerebral palsy gmfcs level ii are more unstable during gait compared to children in level i. in threatening situations , such as walking on uneven or inclined surfaces , the greater instability of children in gmfcs level ii could justify their need for assistive devices . \n",
            " it also justifies their use a rail to walk up and down stairs , since reduced pelvic obliquity would decrease hip abduction that could also affect hip flexion . although the kinematic analysis was not a tool used to assist the development of gmfcs classification system , the findings of the present study support the differences between levels i and ii of the gmfcs , recently revised by the authors . \n",
            " the discriminant model revealed that pelvic obliquity has a higher impact in discriminating children gmfcs level i from those of level ii . \n",
            " clinically , this result shows that pelvic obliquity in the frontal plane explains better the mechanical difference between children in level i and ii . \n",
            " the importance of pelvic obliquity during gait was introduced in 1953 by saunders and coworkers   as one of the most important gait marker that minimizes the vertical displacement of the center of mass . in 2001 \n",
            " , della croce   and coworkers confirmed that pelvic obliquity and single support knee flexion are the second most important gait determinants in reducing center of mass dislocation and consequently improving gait efficiency . \n",
            " the present study demonstrated that gait velocity was similar between cp children in level i and ii . \n",
            " in a multicentre study conducted with 562 children with cerebral palsy , classified in levels i to iii of the gmfcs , determined that gait velocity is a discriminant factor between levels i and ii . similar results were reported by oeffinger et al . . \n",
            " in addition , damiano and abel   reported that the temporal and spatial parameters were important indicators of the severity level of the cerebral palsy children . \n",
            " the classification in levels i and ii , proposed by palisano et al . , was based primarily in the limitation of the child to execute movements that involved velocity and stability , such as walking , jumping , and going up and down stairs . \n",
            " therefore , we would expect a significant difference between levels i and ii in the gait spatial and temporal markers . \n",
            " it is likely that the different instruments used to capture temporal and spatial gait markers and the fact that our sample was composed only of diplegic cerebral palsy children probably justify the different results found in the present study . \n",
            " gait alterations in children with cerebral palsy may also occur in other planes of motion . \n",
            " rodda and graham   proposed a classification system for diplegic children based on the kinematic and kinetic analyses focused in the sagittal plane . \n",
            " however , the authors agreed that important alterations may also occur in the frontal and transverse planes . \n",
            " for example , excessive internal pelvic rotation during initial contact contributes to a higher range of hip abduction motion observed during gait strike . on the other hand , \n",
            " increased pelvic obliquity may be secondary to a decrease in the hip and knee sagittal motions . \n",
            " the lack of significant findings in the sagittal plane could be related to the nature of the movement . as in the sagittal plane , \n",
            " the range of motion is greater compared to the other planes , the variability is normally smaller when compared to movements with smaller range of motions [ 33 , 34 ] . \n",
            " one option would be to increase the sample size , in an attempt to identify the subtle variances that could occur in the sagittal plane . \n",
            " nevertheless , in the present study , even with a relatively small sample size the results could discriminate the groups , showing that , in fact , a difference between levels i and ii , although subtle , could be detected with the multivariate analysis technique applied . \n",
            " the present study offers new information on angular displacement in all three planes of gait stance of children with cerebral palsy classified as gmfcs levels i and ii . clinical observation of reduced pelvic obliquity and hip adduction during gait is a difficult task . \n",
            " the literature on observational gait analysis has shown that training and experience are important for a more consistent observation of the pelvic and hip movements during gait . therefore , the kinematic idiosyncrasy of each gmfcs level could be added as one important clinical parameter to help the classification process of mild - to - moderate children with diplegia . \n",
            " in addition , prior knowledge of the biomechanical differences between gmfcs levels i and ii may guide further physical therapy strategies , focused on regaining pelvic obliquity and hip adduction range of motion of the support limb . such strategies may promote gait stability of cerebral palsy children level ii , with less energy expenditure and free from assistive devices .\n"
          ]
        }
      ],
      "source": [
        "print(raw_datasets[\"train\"][119923]['article'])"
      ]
    },
    {
      "cell_type": "code",
      "execution_count": 6,
      "metadata": {
        "id": "Vqvj_WqoIkLZ"
      },
      "outputs": [],
      "source": [
        "training_corpus = (\n",
        "    raw_datasets[\"train\"][i : i + 1000][\"article\"]\n",
        "    for i in range(0, len(raw_datasets[\"train\"]), 1000)\n",
        ")"
      ]
    },
    {
      "cell_type": "code",
      "execution_count": null,
      "metadata": {
        "id": "kL7dzgqZIkLa"
      },
      "outputs": [],
      "source": [
        "# def get_training_corpus():\n",
        "#     dataset = raw_datasets[\"train\"]\n",
        "#     for start_idx in range(0, len(dataset), 1000):\n",
        "#         samples = dataset[start_idx : start_idx + 1000]\n",
        "#         yield samples[\"whole_func_string\"]"
      ]
    },
    {
      "cell_type": "code",
      "execution_count": 7,
      "metadata": {
        "id": "rT8P_D2HIkLa"
      },
      "outputs": [
        {
          "name": "stderr",
          "output_type": "stream",
          "text": [
            "c:\\Users\\Atharva Bhattad\\AppData\\Local\\Programs\\Python\\Python311\\Lib\\site-packages\\transformers\\tokenization_utils_base.py:1601: FutureWarning: `clean_up_tokenization_spaces` was not set. It will be set to `True` by default. This behavior will be depracted in transformers v4.45, and will be then set to `False` by default. For more details check this issue: https://github.com/huggingface/transformers/issues/31884\n",
            "  warnings.warn(\n"
          ]
        }
      ],
      "source": [
        "from transformers import AutoTokenizer\n",
        "\n",
        "old_tokenizer = AutoTokenizer.from_pretrained(\"gpt2\")"
      ]
    },
    {
      "cell_type": "code",
      "execution_count": 8,
      "metadata": {
        "id": "QOyC7wUPIkLb"
      },
      "outputs": [],
      "source": [
        "tokenizer = old_tokenizer.train_new_from_iterator(training_corpus, vocab_size=50256)"
      ]
    },
    {
      "cell_type": "code",
      "execution_count": 9,
      "metadata": {
        "id": "3TC5DtTBIkLb",
        "outputId": "778c1374-bac7-401b-852b-b35745f8f4e5"
      },
      "outputs": [
        {
          "data": {
            "text/plain": [
              "['cerebral',\n",
              " 'Ġpalsy',\n",
              " 'Ġis',\n",
              " 'Ġa',\n",
              " 'Ġnonprog',\n",
              " 'ressive',\n",
              " 'Ġcentral',\n",
              " 'Ġnervous',\n",
              " 'Ġsystem',\n",
              " 'Ġdisorder',\n",
              " 'Ġthat',\n",
              " 'Ġresults',\n",
              " 'Ġin',\n",
              " 'Ġphysical',\n",
              " 'Ġimpairments',\n",
              " 'Ġand',\n",
              " 'Ġfunctional',\n",
              " 'Ġlimitations',\n",
              " 'Ġthat',\n",
              " 'Ġchange',\n",
              " 'Ġas',\n",
              " 'Ġthe',\n",
              " 'Ġchildren',\n",
              " 'Ġgrow',\n",
              " 'Ġolder',\n",
              " 'Ġ.']"
            ]
          },
          "execution_count": 9,
          "metadata": {},
          "output_type": "execute_result"
        }
      ],
      "source": [
        "example = 'cerebral palsy is a nonprogressive central nervous system disorder that results in physical impairments and functional limitations that change as the children grow older .'\n",
        "tokens = tokenizer.tokenize(example)\n",
        "tokens"
      ]
    },
    {
      "cell_type": "code",
      "execution_count": 10,
      "metadata": {
        "id": "FMsnHIeqIkLb",
        "outputId": "bed4dcd6-f039-40fd-e46d-3d83f82fa5f7"
      },
      "outputs": [
        {
          "name": "stdout",
          "output_type": "stream",
          "text": [
            "26\n",
            "31\n"
          ]
        }
      ],
      "source": [
        "print(len(tokens))\n",
        "print(len(old_tokenizer.tokenize(example)))"
      ]
    },
    {
      "cell_type": "code",
      "execution_count": 11,
      "metadata": {
        "id": "rF2Cls-eIkLb"
      },
      "outputs": [
        {
          "data": {
            "text/plain": [
              "('Pubmed-tokenizer\\\\tokenizer_config.json',\n",
              " 'Pubmed-tokenizer\\\\special_tokens_map.json',\n",
              " 'Pubmed-tokenizer\\\\vocab.json',\n",
              " 'Pubmed-tokenizer\\\\merges.txt',\n",
              " 'Pubmed-tokenizer\\\\added_tokens.json',\n",
              " 'Pubmed-tokenizer\\\\tokenizer.json')"
            ]
          },
          "execution_count": 11,
          "metadata": {},
          "output_type": "execute_result"
        }
      ],
      "source": [
        "tokenizer.save_pretrained(\"Pubmed-tokenizer\")"
      ]
    },
    {
      "cell_type": "code",
      "execution_count": null,
      "metadata": {
        "id": "XEjiIaG7IkLb"
      },
      "outputs": [],
      "source": [
        "from huggingface_hub import notebook_login\n",
        "\n",
        "notebook_login()"
      ]
    },
    {
      "cell_type": "code",
      "execution_count": null,
      "metadata": {
        "id": "Usx0DTXRIkLb"
      },
      "outputs": [],
      "source": [
        "tokenizer.push_to_hub(\"pubmed-tokenizer\")"
      ]
    },
    {
      "cell_type": "code",
      "execution_count": null,
      "metadata": {
        "id": "3HR4mRp8IkLb"
      },
      "outputs": [],
      "source": [
        "tokenizer = AutoTokenizer.from_pretrained(\"atharvabhattad/pubmed-tokenizer\")"
      ]
    },
    {
      "cell_type": "markdown",
      "metadata": {},
      "source": [
        "This tokenizer generated can know be called the above mentioned way from hugging face"
      ]
    },
    {
      "cell_type": "code",
      "execution_count": null,
      "metadata": {},
      "outputs": [],
      "source": []
    }
  ],
  "metadata": {
    "colab": {
      "name": "Training a new tokenizer from an old one",
      "provenance": []
    },
    "kernelspec": {
      "display_name": "Python 3",
      "language": "python",
      "name": "python3"
    },
    "language_info": {
      "codemirror_mode": {
        "name": "ipython",
        "version": 3
      },
      "file_extension": ".py",
      "mimetype": "text/x-python",
      "name": "python",
      "nbconvert_exporter": "python",
      "pygments_lexer": "ipython3",
      "version": "3.11.9"
    }
  },
  "nbformat": 4,
  "nbformat_minor": 0
}
